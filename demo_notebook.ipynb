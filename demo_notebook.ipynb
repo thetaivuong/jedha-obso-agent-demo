{
 "cells": [
  {
   "cell_type": "code",
   "execution_count": null,
   "id": "1489947e",
   "metadata": {},
   "outputs": [],
   "source": [
    "import pandas as pd\n",
    "df = pd.DataFrame({'a':[1,2]})\n",
    "df.ix[0]"
   ]
  }
 ],
 "metadata": {},
 "nbformat": 4,
 "nbformat_minor": 5
}
