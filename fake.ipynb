{
 "cells": [
  {
   "cell_type": "code",
   "execution_count": 43,
   "id": "638cc1a3-236e-427d-b59b-121dbe1553b1",
   "metadata": {},
   "outputs": [
    {
     "data": {
      "text/plain": [
       "0    1\n",
       "1    2\n",
       "2    c\n",
       "dtype: object"
      ]
     },
     "execution_count": 43,
     "metadata": {},
     "output_type": "execute_result"
    }
   ],
   "source": [
    "import pandas as pd\n",
    "s = pd.Series([\"a\", \"b\", \"c\"])          # dtype objet\n",
    "s.replace({\"a\": 1, \"b\": 2})"
   ]
  },
  {
   "cell_type": "code",
   "execution_count": 44,
   "id": "f479c2c9-46e3-48c8-bec1-c96e71a12bc1",
   "metadata": {},
   "outputs": [
    {
     "name": "stderr",
     "output_type": "stream",
     "text": [
      "C:\\Users\\USER\\AppData\\Local\\Temp\\ipykernel_15916\\2952716466.py:1: FutureWarning: Series.ravel is deprecated. The underlying array is already 1D, so ravel is not necessary.  Use `to_numpy()` for conversion to a numpy array instead.\n",
      "  pd.Series([1,2,3]).ravel()\n"
     ]
    },
    {
     "data": {
      "text/plain": [
       "array([1, 2, 3], dtype=int64)"
      ]
     },
     "execution_count": 44,
     "metadata": {},
     "output_type": "execute_result"
    }
   ],
   "source": [
    "pd.Series([1,2,3]).ravel()"
   ]
  },
  {
   "cell_type": "code",
   "execution_count": 45,
   "id": "d793bc10-f3f2-4b9c-8373-4f3c6c7913de",
   "metadata": {},
   "outputs": [],
   "source": [
    "#pd.Series([1,2,3]).ravel()"
   ]
  },
  {
   "cell_type": "code",
   "execution_count": 46,
   "id": "07300629-e819-4abe-a24a-1e3ba2266915",
   "metadata": {},
   "outputs": [
    {
     "name": "stderr",
     "output_type": "stream",
     "text": [
      "C:\\Users\\USER\\AppData\\Local\\Temp\\ipykernel_15916\\140257332.py:1: FutureWarning: 'Q' is deprecated and will be removed in a future version, please use 'QE' instead.\n",
      "  pd.date_range(\"2020-01-01\", periods=3, freq='Q')\n"
     ]
    },
    {
     "data": {
      "text/plain": [
       "DatetimeIndex(['2020-03-31', '2020-06-30', '2020-09-30'], dtype='datetime64[ns]', freq='QE-DEC')"
      ]
     },
     "execution_count": 46,
     "metadata": {},
     "output_type": "execute_result"
    }
   ],
   "source": [
    "pd.date_range(\"2020-01-01\", periods=3, freq='Q')"
   ]
  },
  {
   "cell_type": "code",
   "execution_count": 47,
   "id": "5d3f3b22-cbd8-4da4-853b-ebdf7fe683a5",
   "metadata": {},
   "outputs": [],
   "source": [
    "#pd.date_range(\"2020-01-01\", periods=3, freq='QE')"
   ]
  },
  {
   "cell_type": "code",
   "execution_count": 48,
   "id": "5a23ad97-5975-43e6-9031-c7b1bbed8216",
   "metadata": {},
   "outputs": [
    {
     "name": "stderr",
     "output_type": "stream",
     "text": [
      "C:\\Users\\USER\\AppData\\Local\\Temp\\ipykernel_15916\\963226239.py:2: FutureWarning: Index.format is deprecated and will be removed in a future version. Convert using index.astype(str) or index.map(formatter) instead.\n",
      "  idx.format()\n"
     ]
    },
    {
     "data": {
      "text/plain": [
       "['1', '2', '3']"
      ]
     },
     "execution_count": 48,
     "metadata": {},
     "output_type": "execute_result"
    }
   ],
   "source": [
    "idx = pd.Index([1,2,3])\n",
    "idx.format()"
   ]
  },
  {
   "cell_type": "code",
   "execution_count": 30,
   "id": "00bcfcf6-b9a9-477d-bb5d-9e9dca6cd627",
   "metadata": {},
   "outputs": [],
   "source": [
    "#idx = pd.Index([1,2,3])\n",
    "#idx.format()"
   ]
  },
  {
   "cell_type": "code",
   "execution_count": null,
   "id": "8a8b43d3-fdde-4ad4-b26e-0c4197dea618",
   "metadata": {},
   "outputs": [],
   "source": []
  }
 ],
 "metadata": {
  "kernelspec": {
   "display_name": "Python 3 (ipykernel)",
   "language": "python",
   "name": "python3"
  },
  "language_info": {
   "codemirror_mode": {
    "name": "ipython",
    "version": 3
   },
   "file_extension": ".py",
   "mimetype": "text/x-python",
   "name": "python",
   "nbconvert_exporter": "python",
   "pygments_lexer": "ipython3",
   "version": "3.9.13"
  }
 },
 "nbformat": 4,
 "nbformat_minor": 5
}
